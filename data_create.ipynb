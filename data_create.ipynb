{
 "cells": [
  {
   "metadata": {
    "ExecuteTime": {
     "end_time": "2024-11-27T18:12:53.104136Z",
     "start_time": "2024-11-27T18:12:53.099235Z"
    }
   },
   "cell_type": "code",
   "source": [
    "import random\n",
    "import json"
   ],
   "id": "48dc39c2bd3c9e3a",
   "outputs": [],
   "execution_count": 86
  },
  {
   "metadata": {
    "ExecuteTime": {
     "end_time": "2024-11-27T18:12:54.224832Z",
     "start_time": "2024-11-27T18:12:54.222495Z"
    }
   },
   "cell_type": "code",
   "source": [
    "colors = [\"red block\", \"green block\", \"blue block\", \"yellow block\"]\n",
    "block_num = [1,2,3,4,5,6,7,8]\n",
    "str_table = \"table\"\n",
    "str_on = \"on\""
   ],
   "id": "a63899ed48d9fec8",
   "outputs": [],
   "execution_count": 87
  },
  {
   "metadata": {
    "ExecuteTime": {
     "end_time": "2024-11-27T18:12:56.090398Z",
     "start_time": "2024-11-27T18:12:56.085130Z"
    }
   },
   "cell_type": "code",
   "source": [
    "\"\"\"\n",
    "these functions create a goal state and current state\n",
    "\"\"\"\n",
    "def rand_goal(block_array):\n",
    "    seed = random.randint(1, 1000000)\n",
    "    random.seed(seed)\n",
    "    rand_final = []\n",
    "    obj_num_goal = random.randint(2, len(block_array))\n",
    "    randomized_colors = random.sample(block_array, obj_num_goal)\n",
    "    for i in range(len(randomized_colors) - 1):\n",
    "        rand_final.append((randomized_colors[i], str_on, randomized_colors[i + 1]))\n",
    "    rand_final.append((randomized_colors[-1], str_on ,str_table))\n",
    "    rand_final.reverse()\n",
    "    return obj_num_goal, seed, rand_final, randomized_colors\n",
    "\n",
    "\n",
    "\n",
    "def rand_state(block_array, obj_num_goal):\n",
    "    rand_state_arr = []\n",
    "    percent_on_blocks = random.randint(1, obj_num_goal)\n",
    "    for i in range(len(block_array)):\n",
    "        if i < percent_on_blocks:\n",
    "            rand_state_arr.append((block_array[i], str_on, str_table))\n",
    "        else:\n",
    "            rand_state_arr.append((block_array[i], str_on, block_array[i-1]))\n",
    "    return rand_state_arr"
   ],
   "id": "c59470a80e988f5d",
   "outputs": [],
   "execution_count": 88
  },
  {
   "metadata": {
    "ExecuteTime": {
     "end_time": "2024-11-27T18:24:21.145276Z",
     "start_time": "2024-11-27T18:24:21.140886Z"
    }
   },
   "cell_type": "code",
   "source": [
    "\"\"\"\n",
    "This code block combines goal state and current state then writes it to data_collection file as a json\n",
    "\"\"\"\n",
    "def read_data(file_name):\n",
    "    with open(file_name, \"r\") as f1:\n",
    "        data = f1.read()\n",
    "        entries = data.split('data_')\n",
    "        count = len(entries[1:])\n",
    "    return count\n",
    "\n",
    "def collect_data(num):\n",
    "     f2 = open(\"data_collection\", \"a\")\n",
    "     count = 0\n",
    "     offset = read_data(f\"data_collection\")\n",
    "     while count < num:\n",
    "        rand_goal_list = rand_goal(colors)\n",
    "        rand_state_list = rand_state(rand_goal_list[3], rand_goal_list[0])\n",
    "        combined_json = {\n",
    "            \"Goal_State\": rand_goal_list[2],\n",
    "            \"Current_State\": rand_state_list,\n",
    "            \"Pick\": None,\n",
    "            \"Place\": None\n",
    "        }\n",
    "\n",
    "        final_json = json.dumps(combined_json, indent=3)\n",
    "        f2.write(f\"data_{count + 1 + offset}:\\n\")\n",
    "        f2.write(final_json)\n",
    "        f2.write(\"\\n\")\n",
    "        count+=1\n",
    "     f2.close()\n",
    "collect_data(1)"
   ],
   "id": "2eb73d89c84295e2",
   "outputs": [],
   "execution_count": 115
  },
  {
   "metadata": {
    "ExecuteTime": {
     "end_time": "2024-11-27T18:24:35.331674Z",
     "start_time": "2024-11-27T18:24:30.126945Z"
    }
   },
   "cell_type": "code",
   "source": [
    "\"\"\"\n",
    "when called prompts a user to fill in pick and place\n",
    "\"\"\"\n",
    "\n",
    "def update_pick_and_place(file_name):\n",
    "    with open(file_name, \"r\") as f:\n",
    "        data = f.read()\n",
    "        entries = data.split('data_')\n",
    "    with open(file_name, \"w\") as f:\n",
    "        for entry in entries[1:]:\n",
    "            lines = entry.split('\\n')\n",
    "            if len(lines) > 1:\n",
    "                json_data = json.loads('\\n'.join(lines[1:]))\n",
    "                if json_data[\"Pick\"] is None or json_data[\"Place\"] is None:\n",
    "                    try:\n",
    "                        pick = input(f\"Enter 'Pick' value for data_{entries.index(entry)}\\n goal state: \\n {json_data['Goal_State']} \\n current state:\\n {json_data['Current_State']} \")\n",
    "                        place = input(f\"Enter 'Place' value for data_{entries.index(entry)}\\n goal state: \\n {json_data['Goal_State']} \\n current state:\\n {json_data['Current_State']} \")\n",
    "                        json_data[\"Pick\"] = pick\n",
    "                        json_data[\"Place\"] = place\n",
    "                    except KeyboardInterrupt:\n",
    "                        print(f\"Keyboard Interrupt, No changes made to data_{entries.index(entry)}\")\n",
    "                        final_json = json.dumps(json_data, indent=3)\n",
    "                        f.write(f\"data_{entries.index(entry)}:\\n\")\n",
    "                        f.write(final_json)\n",
    "                        f.write(\"\\n\")\n",
    "                        break\n",
    "\n",
    "                    final_json = json.dumps(json_data, indent=3)\n",
    "                    f.write(f\"data_{entries.index(entry)}:\\n\")\n",
    "                    f.write(final_json)\n",
    "                    f.write(\"\\n\")\n",
    "                else:\n",
    "                    final_json = json.dumps(json_data, indent=3)\n",
    "                    f.write(f\"data_{entries.index(entry)}:\\n\")\n",
    "                    f.write(final_json)\n",
    "                    f.write(\"\\n\")\n",
    "\n",
    "update_pick_and_place(\"data_collection\")"
   ],
   "id": "4329e0c4800c17df",
   "outputs": [
    {
     "name": "stdout",
     "output_type": "stream",
     "text": [
      "Keyboard Interrupt, No changes made to data_1\n"
     ]
    }
   ],
   "execution_count": 116
  },
  {
   "metadata": {
    "ExecuteTime": {
     "end_time": "2024-11-27T18:25:59.173221Z",
     "start_time": "2024-11-27T18:25:56.030192Z"
    }
   },
   "cell_type": "code",
   "source": [
    "\"\"\"\n",
    "this function prompts a user for a number to lookup/ modify data\n",
    "\"\"\"\n",
    "def modify_entry(file_name, entry_num, new_pick, new_place):\n",
    "    with open(file_name, \"r\") as f:\n",
    "        data = f.read()\n",
    "        entries = data.split('data_')\n",
    "    with open(file_name, \"w\") as f:\n",
    "        for idx, entry in enumerate(entries[1:], start=1):\n",
    "            lines = entry.split('\\n')\n",
    "            if len(lines) > 1:\n",
    "                json_data = json.loads('\\n'.join(lines[1:]))\n",
    "                if idx == entry_num:\n",
    "                    json_data[\"Pick\"] = new_pick\n",
    "                    json_data[\"Place\"] = new_place\n",
    "\n",
    "                final_json = json.dumps(json_data, indent=3)\n",
    "                f.write(f\"data_{idx}:\\n\")\n",
    "                f.write(final_json)\n",
    "                f.write(\"\\n\")\n",
    "\n",
    "def prompt_modify(file_name):\n",
    "    with open(file_name, \"r\") as f:\n",
    "        data = f.read()\n",
    "        entries = data.split('data_')\n",
    "        try:\n",
    "            if len(entries) == 1:\n",
    "                print(\"no data\")\n",
    "                return\n",
    "            num = int(input(f\"what entry do you want to look at? valid range(1-{len(entries) - 1})\"))\n",
    "            if num < 1 or num > len(entries) - 1:\n",
    "                print(\"Invalid entry number\")\n",
    "            else:\n",
    "                lines = entries[num].split('\\n')\n",
    "                if len(lines) > 1:\n",
    "                    json_data = json.loads('\\n'.join(lines[1:]))\n",
    "                new_pick = input(f\"Enter new pick value:  \\n {json_data['Current_State']}\\n {json_data['Goal_State']} \\n {json_data['Pick']} \\n {json_data['Place']}\")\n",
    "                new_place = input(f\"Enter new place value:  \\n {json_data['Current_State']}\\n {json_data['Goal_State']} \\n {json_data['Pick']} \\n {json_data['Place']}\")\n",
    "                modify_entry(file_name, int(num), new_pick, new_place)\n",
    "        except KeyboardInterrupt:\n",
    "            print(f\"Keyboard Interrupt, No changes made to data_{num}\")\n",
    "prompt_modify(\"data_collection\")"
   ],
   "id": "2f87385c0248a3fd",
   "outputs": [
    {
     "name": "stdout",
     "output_type": "stream",
     "text": [
      "Keyboard Interrupt, No changes made to data_1\n"
     ]
    }
   ],
   "execution_count": 119
  },
  {
   "metadata": {
    "ExecuteTime": {
     "end_time": "2024-11-27T18:24:09.936374Z",
     "start_time": "2024-11-27T18:24:09.933637Z"
    }
   },
   "cell_type": "code",
   "source": [
    "\"\"\"\n",
    "deletes everything in data_collection\n",
    "\"\"\"\n",
    "with open(\"data_collection\", \"w\") as f:\n",
    "    pass"
   ],
   "id": "7f45f0fa40a64697",
   "outputs": [],
   "execution_count": 111
  }
 ],
 "metadata": {
  "kernelspec": {
   "name": "python3",
   "language": "python",
   "display_name": "Python 3 (ipykernel)"
  }
 },
 "nbformat": 5,
 "nbformat_minor": 9
}
