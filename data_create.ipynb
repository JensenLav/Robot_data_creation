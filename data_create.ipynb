{
 "cells": [
  {
   "metadata": {},
   "cell_type": "code",
   "source": [
    "import random\n",
    "import json"
   ],
   "id": "48dc39c2bd3c9e3a",
   "outputs": [],
   "execution_count": null
  },
  {
   "metadata": {},
   "cell_type": "code",
   "source": [
    "colors = [\"red block\", \"green block\", \"blue block\", \"yellow block\"]\n",
    "block_num = [1,2,3,4,5,6,7,8]\n",
    "str_table = \"table\"\n",
    "str_on = \"on\""
   ],
   "id": "a63899ed48d9fec8",
   "outputs": [],
   "execution_count": null
  },
  {
   "metadata": {},
   "cell_type": "code",
   "source": [
    "def rand_goal(block_array):\n",
    "    seed = random.randint(1, 1000000)\n",
    "    random.seed(seed)\n",
    "    rand_final = []\n",
    "    obj_num_goal = random.randint(2, len(block_array))\n",
    "    randomized_colors = random.sample(block_array, obj_num_goal)\n",
    "    for i in range(len(randomized_colors) - 1):\n",
    "        rand_final.append((randomized_colors[i], str_on, randomized_colors[i + 1]))\n",
    "    rand_final.append((randomized_colors[-1], str_on ,str_table))\n",
    "    rand_final.reverse()\n",
    "    return obj_num_goal, seed, rand_final, randomized_colors\n",
    "\n",
    "\n",
    "\n",
    "def rand_state(block_array, obj_num_goal):\n",
    "    rand_state_arr = []\n",
    "    percent_on_blocks = random.randint(1, obj_num_goal)\n",
    "    for i in range(len(block_array)):\n",
    "        if i < percent_on_blocks:\n",
    "            rand_state_arr.append((block_array[i], str_on, str_table))\n",
    "        else:\n",
    "            rand_state_arr.append((block_array[i], str_on, block_array[i-1]))\n",
    "    return rand_state_arr"
   ],
   "id": "c59470a80e988f5d",
   "outputs": [],
   "execution_count": null
  },
  {
   "metadata": {
    "ExecuteTime": {
     "end_time": "2024-11-26T20:16:51.518295Z",
     "start_time": "2024-11-26T20:16:51.511663Z"
    }
   },
   "cell_type": "code",
   "source": [
    "def read_data(file_name):\n",
    "    with open(file_name, \"r\") as f1:\n",
    "        data = f1.read()\n",
    "        entries = data.split('data_')\n",
    "        count = len(entries[1:])\n",
    "    return count\n",
    "\n",
    "def collect_data(num):\n",
    "     f2 = open(\"data_collection\", \"a\")\n",
    "     count = 0\n",
    "     offset = read_data(f\"data_collection\")\n",
    "     while count < num:\n",
    "        rand_goal_list = rand_goal(colors)\n",
    "        rand_state_list = rand_state(rand_goal_list[3], rand_goal_list[0])\n",
    "        combined_json = {\n",
    "            \"Goal_State\": rand_goal_list[2],\n",
    "            \"Current_State\": rand_state_list,\n",
    "            \"Pick\": None,\n",
    "            \"Place\": None\n",
    "        }\n",
    "\n",
    "        final_json = json.dumps(combined_json, indent=3)\n",
    "        f2.write(f\"data_{count + 1 + offset}:\\n\")\n",
    "        f2.write(final_json)\n",
    "        f2.write(\"\\n\")\n",
    "        count+=1\n",
    "     f2.close()\n",
    "collect_data(1)"
   ],
   "id": "2eb73d89c84295e2",
   "outputs": [],
   "execution_count": 29
  },
  {
   "metadata": {
    "ExecuteTime": {
     "end_time": "2024-11-26T20:18:09.121156Z",
     "start_time": "2024-11-26T20:18:09.114855Z"
    }
   },
   "cell_type": "code",
   "source": [
    "def update_pick_and_place(file_name):\n",
    "    with open(file_name, \"r\") as f:\n",
    "        data = f.read()\n",
    "        entries = data.split('data_')\n",
    "    with open(file_name, \"w\") as f:\n",
    "        for entry in entries[1:]:\n",
    "            lines = entry.split('\\n')\n",
    "            if len(lines) > 1:\n",
    "                json_data = json.loads('\\n'.join(lines[1:]))\n",
    "                if json_data[\"Pick\"] is None or json_data[\"Place\"] is None:\n",
    "                    try:\n",
    "                        pick = input(f\"Enter 'Pick' value for data_{entries.index(entry)}\\n goal state: \\n {json_data['Goal_State']} \\n current state:\\n {json_data['Current_State']} \")\n",
    "                        place = input(f\"Enter 'Place' value for data_{entries.index(entry)}\\n goal state: \\n {json_data['Goal_State']} \\n current state:\\n {json_data['Current_State']} \")\n",
    "                        json_data[\"Pick\"] = pick\n",
    "                        json_data[\"Place\"] = place\n",
    "                    except KeyboardInterrupt:\n",
    "                        print(\"Keyboard Interrupt, No changes made\")\n",
    "                        final_json = json.dumps(json_data, indent=3)\n",
    "                        f.write(f\"data_{entries.index(entry)}:\\n\")\n",
    "                        f.write(final_json)\n",
    "                        f.write(\"\\n\")\n",
    "                        break\n",
    "\n",
    "                    final_json = json.dumps(json_data, indent=3)\n",
    "                    f.write(f\"data_{entries.index(entry)}:\\n\")\n",
    "                    f.write(final_json)\n",
    "                    f.write(\"\\n\")\n",
    "                else:\n",
    "                    final_json = json.dumps(json_data, indent=3)\n",
    "                    f.write(f\"data_{entries.index(entry)}:\\n\")\n",
    "                    f.write(final_json)\n",
    "                    f.write(\"\\n\")\n",
    "\n",
    "update_pick_and_place(\"data_collection\")"
   ],
   "id": "4329e0c4800c17df",
   "outputs": [],
   "execution_count": 32
  },
  {
   "metadata": {
    "ExecuteTime": {
     "end_time": "2024-11-26T20:17:04.390294Z",
     "start_time": "2024-11-26T20:17:04.386597Z"
    }
   },
   "cell_type": "code",
   "source": [
    "with open(\"data_collection\", \"w\") as f:\n",
    "    pass"
   ],
   "id": "7f45f0fa40a64697",
   "outputs": [],
   "execution_count": 31
  }
 ],
 "metadata": {
  "kernelspec": {
   "name": "python3",
   "language": "python",
   "display_name": "Python 3 (ipykernel)"
  }
 },
 "nbformat": 5,
 "nbformat_minor": 9
}
