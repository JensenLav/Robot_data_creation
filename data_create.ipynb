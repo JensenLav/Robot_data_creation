{
 "cells": [
  {
   "metadata": {
    "ExecuteTime": {
     "end_time": "2024-11-26T18:18:27.200459Z",
     "start_time": "2024-11-26T18:18:27.198482Z"
    }
   },
   "cell_type": "code",
   "source": [
    "import random\n",
    "import json\n"
   ],
   "id": "48dc39c2bd3c9e3a",
   "outputs": [],
   "execution_count": 7
  },
  {
   "metadata": {
    "ExecuteTime": {
     "end_time": "2024-11-26T18:18:15.096581Z",
     "start_time": "2024-11-26T18:18:15.094027Z"
    }
   },
   "cell_type": "code",
   "source": [
    "colors = [\"red block\", \"green block\", \"blue block\", \"yellow block\"]\n",
    "block_num = [1,2,3,4,5,6,7,8]\n",
    "str_table = \"table\"\n",
    "str_on = \"on\""
   ],
   "id": "a63899ed48d9fec8",
   "outputs": [],
   "execution_count": 6
  },
  {
   "metadata": {
    "ExecuteTime": {
     "end_time": "2024-11-26T18:18:29.623009Z",
     "start_time": "2024-11-26T18:18:29.618287Z"
    }
   },
   "cell_type": "code",
   "source": [
    "def rand_goal(block_array):\n",
    "    seed = random.randint(1, 1000000)\n",
    "    random.seed(seed)\n",
    "    rand_final = []\n",
    "    obj_num_goal = random.randint(2, len(block_array))\n",
    "    randomized_colors = random.sample(block_array, obj_num_goal)\n",
    "    for i in range(len(randomized_colors) - 1):\n",
    "        rand_final.append((randomized_colors[i], str_on, randomized_colors[i + 1]))\n",
    "    rand_final.append((randomized_colors[-1], str_on ,str_table))\n",
    "    rand_final.reverse()\n",
    "    return obj_num_goal, seed, rand_final, randomized_colors\n",
    "\n",
    "\n",
    "\n",
    "def rand_state(block_array, obj_num_goal):\n",
    "    rand_state_arr = []\n",
    "    percent_on_blocks = random.randint(1, obj_num_goal)\n",
    "    for i in range(len(block_array)):\n",
    "        if i < percent_on_blocks:\n",
    "            rand_state_arr.append((block_array[i], str_on, str_table))\n",
    "        else:\n",
    "            rand_state_arr.append((block_array[i], str_on, block_array[i-1]))\n",
    "    return rand_state_arr"
   ],
   "id": "c59470a80e988f5d",
   "outputs": [],
   "execution_count": 8
  },
  {
   "metadata": {
    "ExecuteTime": {
     "end_time": "2024-11-26T18:26:03.097584Z",
     "start_time": "2024-11-26T18:26:03.092549Z"
    }
   },
   "cell_type": "code",
   "source": [
    " def collect_data(num):\n",
    "     f = open(\"data_collection\", \"w\")\n",
    "     count = 0\n",
    "     while count < num:\n",
    "        rand_goal_list = rand_goal(colors)\n",
    "        rand_state_list = rand_state(rand_goal_list[3], rand_goal_list[0])\n",
    "        combined_json = {\n",
    "            \"Goal_State\": rand_goal_list[2],\n",
    "            \"Current_State\": rand_state_list,\n",
    "            \"Pick\": None,\n",
    "            \"Place\": None\n",
    "        }\n",
    "\n",
    "        final_json = json.dumps(combined_json, indent=3)\n",
    "        f.write(f\"data_{count + 1}:\\n\")\n",
    "        f.write(final_json)\n",
    "        f.write(\"\\n\")\n",
    "        count+=1\n",
    "     f.close()\n",
    "collect_data(10)"
   ],
   "id": "2eb73d89c84295e2",
   "outputs": [],
   "execution_count": 12
  }
 ],
 "metadata": {
  "kernelspec": {
   "name": "python3",
   "language": "python",
   "display_name": "Python 3 (ipykernel)"
  }
 },
 "nbformat": 5,
 "nbformat_minor": 9
}
