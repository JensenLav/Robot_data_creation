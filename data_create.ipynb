{
 "cells": [
  {
   "metadata": {
    "ExecuteTime": {
     "end_time": "2024-11-26T19:19:58.405647Z",
     "start_time": "2024-11-26T19:19:58.402629Z"
    }
   },
   "cell_type": "code",
   "source": [
    "import random\n",
    "import json"
   ],
   "id": "48dc39c2bd3c9e3a",
   "outputs": [],
   "execution_count": 51
  },
  {
   "metadata": {
    "ExecuteTime": {
     "end_time": "2024-11-26T19:19:59.276677Z",
     "start_time": "2024-11-26T19:19:59.273801Z"
    }
   },
   "cell_type": "code",
   "source": [
    "colors = [\"red block\", \"green block\", \"blue block\", \"yellow block\"]\n",
    "block_num = [1,2,3,4,5,6,7,8]\n",
    "str_table = \"table\"\n",
    "str_on = \"on\""
   ],
   "id": "a63899ed48d9fec8",
   "outputs": [],
   "execution_count": 52
  },
  {
   "metadata": {
    "ExecuteTime": {
     "end_time": "2024-11-26T19:20:01.267876Z",
     "start_time": "2024-11-26T19:20:01.261914Z"
    }
   },
   "cell_type": "code",
   "source": [
    "def rand_goal(block_array):\n",
    "    seed = random.randint(1, 1000000)\n",
    "    random.seed(seed)\n",
    "    rand_final = []\n",
    "    obj_num_goal = random.randint(2, len(block_array))\n",
    "    randomized_colors = random.sample(block_array, obj_num_goal)\n",
    "    for i in range(len(randomized_colors) - 1):\n",
    "        rand_final.append((randomized_colors[i], str_on, randomized_colors[i + 1]))\n",
    "    rand_final.append((randomized_colors[-1], str_on ,str_table))\n",
    "    rand_final.reverse()\n",
    "    return obj_num_goal, seed, rand_final, randomized_colors\n",
    "\n",
    "\n",
    "\n",
    "def rand_state(block_array, obj_num_goal):\n",
    "    rand_state_arr = []\n",
    "    percent_on_blocks = random.randint(1, obj_num_goal)\n",
    "    for i in range(len(block_array)):\n",
    "        if i < percent_on_blocks:\n",
    "            rand_state_arr.append((block_array[i], str_on, str_table))\n",
    "        else:\n",
    "            rand_state_arr.append((block_array[i], str_on, block_array[i-1]))\n",
    "    return rand_state_arr"
   ],
   "id": "c59470a80e988f5d",
   "outputs": [],
   "execution_count": 54
  },
  {
   "metadata": {
    "ExecuteTime": {
     "end_time": "2024-11-26T19:27:07.077953Z",
     "start_time": "2024-11-26T19:27:07.073817Z"
    }
   },
   "cell_type": "code",
   "source": [
    " def read_data(file_name):\n",
    "    with open(file_name, \"r\") as f:\n",
    "            data = f.read()\n",
    "            entries = data.split('data_')\n",
    "            count = 0\n",
    "            for entry in entries[1:]:\n",
    "                count+=1\n",
    "            return count\n",
    "\n",
    " def collect_data(num):\n",
    "     f = open(\"data_collection\", \"a\")\n",
    "     count = 0\n",
    "     offset = read_data(f\"data_collection\")\n",
    "     while count < num:\n",
    "        rand_goal_list = rand_goal(colors)\n",
    "        rand_state_list = rand_state(rand_goal_list[3], rand_goal_list[0])\n",
    "        combined_json = {\n",
    "            \"Goal_State\": rand_goal_list[2],\n",
    "            \"Current_State\": rand_state_list,\n",
    "            \"Pick\": None,\n",
    "            \"Place\": None\n",
    "        }\n",
    "\n",
    "        final_json = json.dumps(combined_json, indent=3)\n",
    "        f.write(f\"data_{count + 1 + offset}:\\n\")\n",
    "        f.write(final_json)\n",
    "        f.write(\"\\n\")\n",
    "        count+=1\n",
    "     f.close()\n",
    "collect_data(2)"
   ],
   "id": "2eb73d89c84295e2",
   "outputs": [],
   "execution_count": 65
  },
  {
   "metadata": {
    "ExecuteTime": {
     "end_time": "2024-11-26T19:22:20.320100Z",
     "start_time": "2024-11-26T19:22:10.264464Z"
    }
   },
   "cell_type": "code",
   "outputs": [],
   "execution_count": 63,
   "source": [
    "def update_pick_and_place(file_name):\n",
    "    with open(file_name, \"r\") as f:\n",
    "        data = f.read()\n",
    "        entries = data.split('data_')\n",
    "\n",
    "    with open(file_name, \"w\") as f:\n",
    "        for entry in entries[1:]:\n",
    "            lines = entry.split('\\n')\n",
    "            if len(lines) > 1:\n",
    "                json_data = json.loads('\\n'.join(lines[1:]))\n",
    "                pick = input(f\"Enter 'Pick' value for data_{entries.index(entry)}\\n goal state: \\n {json_data['Goal_State']} \\n current state:\\n {json_data['Current_State']} \")\n",
    "                place = input(f\"Enter 'Place' value for data_{entries.index(entry)}\\n goal state: \\n {json_data['Goal_State']} \\n current state:\\n {json_data['Current_State']} \")\n",
    "                json_data[\"Pick\"] = pick\n",
    "                json_data[\"Place\"] = place\n",
    "\n",
    "                final_json = json.dumps(json_data, indent=3)\n",
    "                f.write(f\"data_{entries.index(entry)}:\\n\")\n",
    "                f.write(final_json)\n",
    "                f.write(\"\\n\")\n",
    "\n",
    "update_pick_and_place(\"data_collection\")"
   ],
   "id": "4329e0c4800c17df"
  },
  {
   "metadata": {
    "ExecuteTime": {
     "end_time": "2024-11-26T19:27:15.945879Z",
     "start_time": "2024-11-26T19:27:15.942289Z"
    }
   },
   "cell_type": "code",
   "source": [
    "with open(\"data_collection\", \"w\") as f:\n",
    "    pass"
   ],
   "id": "7f45f0fa40a64697",
   "outputs": [],
   "execution_count": 66
  }
 ],
 "metadata": {
  "kernelspec": {
   "name": "python3",
   "language": "python",
   "display_name": "Python 3 (ipykernel)"
  }
 },
 "nbformat": 5,
 "nbformat_minor": 9
}
