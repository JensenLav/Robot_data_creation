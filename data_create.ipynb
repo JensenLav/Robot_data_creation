{
 "cells": [
  {
   "metadata": {
    "ExecuteTime": {
     "end_time": "2024-11-24T20:45:23.764558Z",
     "start_time": "2024-11-24T20:45:23.760661Z"
    }
   },
   "cell_type": "code",
   "source": "import random",
   "id": "48dc39c2bd3c9e3a",
   "outputs": [],
   "execution_count": 975
  },
  {
   "metadata": {
    "ExecuteTime": {
     "end_time": "2024-11-24T20:45:23.778777Z",
     "start_time": "2024-11-24T20:45:23.776648Z"
    }
   },
   "cell_type": "code",
   "source": [
    "colors = [\"red block\", \"green block\", \"blue block\", \"yellow block\"]\n",
    "block_num = [1,2,3,4,5,6,7,8]\n",
    "str_table = \"table\"\n",
    "str_on = \"on\""
   ],
   "id": "a63899ed48d9fec8",
   "outputs": [],
   "execution_count": 976
  },
  {
   "metadata": {
    "ExecuteTime": {
     "end_time": "2024-11-24T20:45:23.784915Z",
     "start_time": "2024-11-24T20:45:23.781615Z"
    }
   },
   "cell_type": "code",
   "source": [
    "def rand_goal(array):\n",
    "    seed = random.randint(1, 1000000)\n",
    "    random.seed(seed)\n",
    "    rand_final = []\n",
    "    obj_num_goal = random.randint(2, len(array))\n",
    "    randomized_colors = random.sample(array, obj_num_goal)\n",
    "    for i in range(len(randomized_colors) - 1):\n",
    "        rand_final.append((randomized_colors[i], str_on, randomized_colors[i + 1]))\n",
    "    rand_final.append((randomized_colors[-1], str_on ,str_table))\n",
    "    rand_final.reverse()\n",
    "    return obj_num_goal, seed, rand_final, randomized_colors\n",
    "\n",
    "\n",
    "\n",
    "def rand_state(array, obj_num_goal):\n",
    "    rand_state_arr = []\n",
    "    percent_on_blocks = random.randint(1, obj_num_goal)\n",
    "    for i in range(len(array)):\n",
    "        if i < percent_on_blocks:\n",
    "            rand_state_arr.append((array[i], str_on, str_table))\n",
    "        else:\n",
    "            rand_state_arr.append((array[i], str_on, array[i-1]))\n",
    "    return rand_state_arr"
   ],
   "id": "c59470a80e988f5d",
   "outputs": [],
   "execution_count": 977
  },
  {
   "metadata": {
    "ExecuteTime": {
     "end_time": "2024-11-24T20:57:56.907372Z",
     "start_time": "2024-11-24T20:57:56.903376Z"
    }
   },
   "cell_type": "code",
   "source": [
    "rand_goal_list = rand_goal(colors)\n",
    "print(\"goal: \" , rand_goal_list[2])\n",
    "\n",
    "rand_state_list = rand_state(rand_goal_list[3], rand_goal_list[0])\n",
    "print(\"current state: \", rand_state_list)"
   ],
   "id": "2eb73d89c84295e2",
   "outputs": [
    {
     "name": "stdout",
     "output_type": "stream",
     "text": [
      "goal:  [('blue block', 'on', 'table'), ('yellow block', 'on', 'blue block')]\n",
      "current state:  [('yellow block', 'on', 'table'), ('blue block', 'on', 'table')]\n"
     ]
    }
   ],
   "execution_count": 1013
  }
 ],
 "metadata": {
  "kernelspec": {
   "name": "python3",
   "language": "python",
   "display_name": "Python 3 (ipykernel)"
  }
 },
 "nbformat": 5,
 "nbformat_minor": 9
}
